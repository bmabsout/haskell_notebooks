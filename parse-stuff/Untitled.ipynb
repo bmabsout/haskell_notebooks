{
 "cells": [
  {
   "cell_type": "code",
   "execution_count": 1,
   "metadata": {},
   "outputs": [],
   "source": [
    "{-#LANGUAGE GADTs#-}\n",
    "{-#LANGUAGE QuasiQuotes#-}\n",
    "\n",
    "import Data.Tree\n",
    "import Data.Foldable\n",
    "import Text.Megaparsec\n",
    "import Text.Megaparsec.Char\n",
    "import qualified Text.Megaparsec.Char.Lexer as L\n",
    "import Data.Void\n",
    "import Data.String.QQ"
   ]
  },
  {
   "cell_type": "code",
   "execution_count": 2,
   "metadata": {},
   "outputs": [],
   "source": [
    "type Parser = Parsec Void String"
   ]
  },
  {
   "cell_type": "code",
   "execution_count": 3,
   "metadata": {},
   "outputs": [],
   "source": [
    "sc :: Parser ()\n",
    "sc = L.space\n",
    "  space1\n",
    "  (L.skipLineComment \"//\")\n",
    "  (empty)\n",
    "\n",
    "lexeme = L.lexeme sc\n",
    "\n",
    "symbol = L.symbol sc\n",
    "\n",
    "braces = between (symbol \"{\") (symbol \"}\")\n",
    "\n",
    "stringLiteral :: Parser String\n",
    "stringLiteral = char '\"' >> manyTill L.charLiteral (char '\"')\n",
    "\n",
    "nodeParser :: Parser (Forest String)\n",
    "nodeParser = (\\s -> [Node s []]) <$> lexeme stringLiteral\n",
    "\n",
    "parseKey :: Parser (Forest String) -> Parser (Tree String)\n",
    "parseKey rest = Node <$> lexeme stringLiteral <*> rest\n",
    "\n",
    "treeParser :: Parser (Tree String)\n",
    "treeParser = sc *> parseKey (nodeParser <|> braces (many treeParser))"
   ]
  },
  {
   "cell_type": "code",
   "execution_count": 4,
   "metadata": {},
   "outputs": [
    {
     "data": {
      "text/plain": [
       "\"cheese\""
      ]
     },
     "metadata": {},
     "output_type": "display_data"
    }
   ],
   "source": [
    "parseTest stringLiteral \"\\\"cheese\\\"\""
   ]
  },
  {
   "cell_type": "code",
   "execution_count": 5,
   "metadata": {},
   "outputs": [
    {
     "data": {
      "text/plain": [
       "Node {rootLabel = \"aa\", subForest = [Node {rootLabel = \"bbb\", subForest = []}]}"
      ]
     },
     "metadata": {},
     "output_type": "display_data"
    }
   ],
   "source": [
    "parseTest (parseKey nodeParser) \"\\\"aa\\\"  \\\"bbb\\\"\""
   ]
  },
  {
   "cell_type": "code",
   "execution_count": 6,
   "metadata": {},
   "outputs": [],
   "source": [
    "tree = parseMaybe treeParser \"\\\"cheese\\\" \\\"pops\\\"\""
   ]
  },
  {
   "cell_type": "code",
   "execution_count": 7,
   "metadata": {},
   "outputs": [
    {
     "data": {
      "text/html": [
       "<style>/* Styles used for the Hoogle display in the pager */\n",
       ".hoogle-doc {\n",
       "display: block;\n",
       "padding-bottom: 1.3em;\n",
       "padding-left: 0.4em;\n",
       "}\n",
       ".hoogle-code {\n",
       "display: block;\n",
       "font-family: monospace;\n",
       "white-space: pre;\n",
       "}\n",
       ".hoogle-text {\n",
       "display: block;\n",
       "}\n",
       ".hoogle-name {\n",
       "color: green;\n",
       "font-weight: bold;\n",
       "}\n",
       ".hoogle-head {\n",
       "font-weight: bold;\n",
       "}\n",
       ".hoogle-sub {\n",
       "display: block;\n",
       "margin-left: 0.4em;\n",
       "}\n",
       ".hoogle-package {\n",
       "font-weight: bold;\n",
       "font-style: italic;\n",
       "}\n",
       ".hoogle-module {\n",
       "font-weight: bold;\n",
       "}\n",
       ".hoogle-class {\n",
       "font-weight: bold;\n",
       "}\n",
       ".get-type {\n",
       "color: green;\n",
       "font-weight: bold;\n",
       "font-family: monospace;\n",
       "display: block;\n",
       "white-space: pre-wrap;\n",
       "}\n",
       ".show-type {\n",
       "color: green;\n",
       "font-weight: bold;\n",
       "font-family: monospace;\n",
       "margin-left: 1em;\n",
       "}\n",
       ".mono {\n",
       "font-family: monospace;\n",
       "display: block;\n",
       "}\n",
       ".err-msg {\n",
       "color: red;\n",
       "font-style: italic;\n",
       "font-family: monospace;\n",
       "white-space: pre;\n",
       "display: block;\n",
       "}\n",
       "#unshowable {\n",
       "color: red;\n",
       "font-weight: bold;\n",
       "}\n",
       ".err-msg.in.collapse {\n",
       "padding-top: 0.7em;\n",
       "}\n",
       ".highlight-code {\n",
       "white-space: pre;\n",
       "font-family: monospace;\n",
       "}\n",
       ".suggestion-warning { \n",
       "font-weight: bold;\n",
       "color: rgb(200, 130, 0);\n",
       "}\n",
       ".suggestion-error { \n",
       "font-weight: bold;\n",
       "color: red;\n",
       "}\n",
       ".suggestion-name {\n",
       "font-weight: bold;\n",
       "}\n",
       "</style><span class='get-type'>tree :: Maybe (Tree String)</span>"
      ],
      "text/plain": [
       "tree :: Maybe (Tree String)"
      ]
     },
     "metadata": {},
     "output_type": "display_data"
    }
   ],
   "source": [
    ":t tree"
   ]
  },
  {
   "cell_type": "code",
   "execution_count": 8,
   "metadata": {},
   "outputs": [],
   "source": [
    "let Just t = tree"
   ]
  },
  {
   "cell_type": "code",
   "execution_count": 9,
   "metadata": {},
   "outputs": [
    {
     "data": {
      "text/plain": [
       "cheese\n",
       "|\n",
       "`- pops"
      ]
     },
     "metadata": {},
     "output_type": "display_data"
    }
   ],
   "source": [
    "putStrLn $ drawTree t"
   ]
  },
  {
   "cell_type": "code",
   "execution_count": 10,
   "metadata": {},
   "outputs": [],
   "source": [
    "test = [s|\n",
    "// HLTV overview description file for de_vertigo.bsp\n",
    "\n",
    "\"de_vertigo\"\n",
    "{\n",
    "\t\"material\"\t\"overviews/de_vertigo_radar\"\t// texture file\n",
    "\t\"pos_x\"\t\t\"-3168\"\t// upper left world coordinate\n",
    "\t\"pos_y\"\t\t\"1762\"\n",
    "\t\"scale\"\t\t\"4.0\" \n",
    "\n",
    "\t\"verticalsections\"\n",
    "\t{\n",
    "\t\t\"default\" // use the primary radar image\n",
    "\t\t{\n",
    "\t\t\t\"AltitudeMax\" \"20000\"\n",
    "\t\t\t\"AltitudeMin\" \"11700\"\n",
    "\t\t}\n",
    "\t\t\"lower\" // i.e. de_nuke_lower_radar.dds\n",
    "\t\t{\n",
    "\t\t\t\"AltitudeMax\" \"11700\"\n",
    "\t\t\t\"AltitudeMin\" \"-10000\"\n",
    "\t\t}\n",
    "\t}\n",
    "\n",
    "\t// loading screen icons and positions\n",
    "\t\"CTSpawn_x\"\t\"0.54\"\n",
    "\t\"CTSpawn_y\"\t\"0.25\"\n",
    "\t\"TSpawn_x\"\t\"0.20\"\n",
    "\t\"TSpawn_y\"\t\"0.75\"\n",
    "\n",
    "\t\"bombA_x\"\t\"0.72\"\n",
    "\t\"bombA_y\"\t\"0.60\"\n",
    "\t\"bombB_x\"\t\"0.245\"\n",
    "\t\"bombB_y\"\t\"0.27\"\n",
    "}\n",
    "\n",
    "|] :: String"
   ]
  },
  {
   "cell_type": "code",
   "execution_count": 11,
   "metadata": {},
   "outputs": [],
   "source": [
    "Just res = parseMaybe treeParser test"
   ]
  },
  {
   "cell_type": "code",
   "execution_count": 12,
   "metadata": {},
   "outputs": [
    {
     "data": {
      "text/plain": [
       "de_vertigo\n",
       "|\n",
       "+- material\n",
       "|  |\n",
       "|  `- overviews/de_vertigo_radar\n",
       "|\n",
       "+- pos_x\n",
       "|  |\n",
       "|  `- -3168\n",
       "|\n",
       "+- pos_y\n",
       "|  |\n",
       "|  `- 1762\n",
       "|\n",
       "+- scale\n",
       "|  |\n",
       "|  `- 4.0\n",
       "|\n",
       "+- verticalsections\n",
       "|  |\n",
       "|  +- default\n",
       "|  |  |\n",
       "|  |  +- AltitudeMax\n",
       "|  |  |  |\n",
       "|  |  |  `- 20000\n",
       "|  |  |\n",
       "|  |  `- AltitudeMin\n",
       "|  |     |\n",
       "|  |     `- 11700\n",
       "|  |\n",
       "|  `- lower\n",
       "|     |\n",
       "|     +- AltitudeMax\n",
       "|     |  |\n",
       "|     |  `- 11700\n",
       "|     |\n",
       "|     `- AltitudeMin\n",
       "|        |\n",
       "|        `- -10000\n",
       "|\n",
       "+- CTSpawn_x\n",
       "|  |\n",
       "|  `- 0.54\n",
       "|\n",
       "+- CTSpawn_y\n",
       "|  |\n",
       "|  `- 0.25\n",
       "|\n",
       "+- TSpawn_x\n",
       "|  |\n",
       "|  `- 0.20\n",
       "|\n",
       "+- TSpawn_y\n",
       "|  |\n",
       "|  `- 0.75\n",
       "|\n",
       "+- bombA_x\n",
       "|  |\n",
       "|  `- 0.72\n",
       "|\n",
       "+- bombA_y\n",
       "|  |\n",
       "|  `- 0.60\n",
       "|\n",
       "+- bombB_x\n",
       "|  |\n",
       "|  `- 0.245\n",
       "|\n",
       "`- bombB_y\n",
       "   |\n",
       "   `- 0.27"
      ]
     },
     "metadata": {},
     "output_type": "display_data"
    }
   ],
   "source": [
    "putStrLn $ drawTree res"
   ]
  },
  {
   "cell_type": "code",
   "execution_count": 13,
   "metadata": {},
   "outputs": [],
   "source": [
    "altSubtree f t@(Node n l)\n",
    "  | f n = pure t\n",
    "  | otherwise = asum $ fmap (altSubtree f) l "
   ]
  },
  {
   "cell_type": "code",
   "execution_count": 14,
   "metadata": {},
   "outputs": [
    {
     "data": {
      "text/plain": [
       "bombA_x\n",
       "|\n",
       "`- 0.72\n",
       "\n",
       "bombA_y\n",
       "|\n",
       "`- 0.60\n",
       "\n",
       "bombB_x\n",
       "|\n",
       "`- 0.245\n",
       "\n",
       "bombB_y\n",
       "|\n",
       "`- 0.27"
      ]
     },
     "metadata": {},
     "output_type": "display_data"
    }
   ],
   "source": [
    "import Data.List\n",
    "putStrLn $ drawForest $ altSubtree (\"bomb\" `isPrefixOf`) res"
   ]
  },
  {
   "cell_type": "code",
   "execution_count": 15,
   "metadata": {},
   "outputs": [],
   "source": [
    "type Pos = (Double, Double)\n",
    "type MinMax = (Int,Int)\n",
    "type Scale = Double\n",
    "data MapData = MapData Pos Scale deriving Show\n",
    "\n",
    "import qualified Data.Map as M\n",
    "\n",
    "data Data = Data {\n",
    "    name :: String\n",
    "  , material :: String\n",
    "  , mapData :: MapData\n",
    "  , verticalSections :: M.Map String MinMax\n",
    "  , iconLocations :: M.Map String Pos\n",
    "  } deriving Show"
   ]
  },
  {
   "cell_type": "code",
   "execution_count": 16,
   "metadata": {},
   "outputs": [
    {
     "data": {
      "text/plain": [
       "\"chee\""
      ]
     },
     "metadata": {},
     "output_type": "display_data"
    }
   ],
   "source": [
    "dropFromEnd s n = take (length s - n) s\n",
    "dropFromEnd \"cheese\" 2"
   ]
  },
  {
   "cell_type": "code",
   "execution_count": 17,
   "metadata": {},
   "outputs": [],
   "source": [
    "import Text.Read\n",
    "import Data.Maybe\n",
    "\n",
    "treeLookup :: String -> Tree String -> Maybe String\n",
    "treeLookup s t = do\n",
    "    Node _ [Node res []] <- altSubtree (== s) t\n",
    "    return res\n",
    "\n",
    "getPositions :: Tree String -> M.Map String Pos\n",
    "getPositions t = M.fromList $ catMaybes $ fmap findY xs\n",
    " where\n",
    "     xs = altSubtree (\"_x\" `isSuffixOf`) t\n",
    "     findY :: Tree String -> Maybe (String, Pos)\n",
    "     findY (Node s [Node x []]) = do \n",
    "        let suffixless = dropFromEnd s 2\n",
    "        y <- treeLookup (suffixless ++ \"_y\") t\n",
    "        pos <- (,) <$> readMaybe x <*> readMaybe y\n",
    "        return (suffixless , pos)\n",
    "     findY _ = Nothing"
   ]
  },
  {
   "cell_type": "code",
   "execution_count": 18,
   "metadata": {},
   "outputs": [
    {
     "data": {
      "text/plain": [
       "fromList [(\"CTSpawn\",(0.54,0.25)),(\"TSpawn\",(0.2,0.75)),(\"bombA\",(0.72,0.6)),(\"bombB\",(0.245,0.27)),(\"pos\",(-3168.0,1762.0))]"
      ]
     },
     "metadata": {},
     "output_type": "display_data"
    }
   ],
   "source": [
    "getPositions res"
   ]
  },
  {
   "cell_type": "code",
   "execution_count": 19,
   "metadata": {},
   "outputs": [],
   "source": [
    "getVerticalSections :: Tree String -> M.Map String MinMax\n",
    "getVerticalSections (Node _ sections) = M.fromList $ catMaybes secList\n",
    "    where\n",
    "      secList = map (\\sub@(Node sec _) -> do\n",
    "                        min <- treeLookup \"AltitudeMin\" sub >>= readMaybe\n",
    "                        max <- treeLookup \"AltitudeMax\" sub >>= readMaybe\n",
    "                        return (sec, (min,max))\n",
    "                ) sections"
   ]
  },
  {
   "cell_type": "code",
   "execution_count": 20,
   "metadata": {},
   "outputs": [],
   "source": [
    "convert :: Tree String -> Maybe Data\n",
    "convert t = do\n",
    "    let Node name _ = t\n",
    "    material <- treeLookup \"material\" t\n",
    "    let positions = getPositions t\n",
    "    pos <- M.lookup \"pos\" positions\n",
    "    scale <- treeLookup \"scale\" t >>= readMaybe\n",
    "    verticalSections <- getVerticalSections <$> altSubtree (== \"verticalsections\") t\n",
    "    let iconLocations = M.delete \"pos\" positions\n",
    "    let mapData = MapData pos scale\n",
    "    return $ Data name material mapData verticalSections iconLocations"
   ]
  },
  {
   "cell_type": "code",
   "execution_count": 21,
   "metadata": {},
   "outputs": [
    {
     "data": {
      "text/plain": [
       "Just (Data {name = \"de_vertigo\", material = \"overviews/de_vertigo_radar\", mapData = MapData (-3168.0,1762.0) 4.0, verticalSections = fromList [(\"default\",(11700,20000)),(\"lower\",(-10000,11700))], iconLocations = fromList [(\"CTSpawn\",(0.54,0.25)),(\"TSpawn\",(0.2,0.75)),(\"bombA\",(0.72,0.6)),(\"bombB\",(0.245,0.27))]})"
      ]
     },
     "metadata": {},
     "output_type": "display_data"
    }
   ],
   "source": [
    "convert res"
   ]
  }
 ],
 "metadata": {
  "kernelspec": {
   "display_name": "Haskell",
   "language": "haskell",
   "name": "haskell"
  },
  "language_info": {
   "codemirror_mode": "ihaskell",
   "file_extension": ".hs",
   "name": "haskell",
   "pygments_lexer": "Haskell",
   "version": "8.4.4"
  }
 },
 "nbformat": 4,
 "nbformat_minor": 2
}
